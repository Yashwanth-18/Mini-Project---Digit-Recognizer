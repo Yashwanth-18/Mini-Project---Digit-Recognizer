{
  "nbformat": 4,
  "nbformat_minor": 0,
  "metadata": {
    "colab": {
      "name": "Live digit recognition.ipynb",
      "provenance": [],
      "authorship_tag": "ABX9TyN9bn3yVVsR82UG6B7MCeXv",
      "include_colab_link": true
    },
    "kernelspec": {
      "name": "python3",
      "display_name": "Python 3"
    }
  },
  "cells": [
    {
      "cell_type": "markdown",
      "metadata": {
        "id": "view-in-github",
        "colab_type": "text"
      },
      "source": [
        "<a href=\"https://colab.research.google.com/github/Yashwanth-18/Mini-Project---Digit-Recognizer/blob/master/Live_digit_recognition.ipynb\" target=\"_parent\"><img src=\"https://colab.research.google.com/assets/colab-badge.svg\" alt=\"Open In Colab\"/></a>"
      ]
    },
    {
      "cell_type": "code",
      "metadata": {
        "id": "RtTMv7KURaDm",
        "colab_type": "code",
        "colab": {
          "base_uri": "https://localhost:8080/",
          "height": 50
        },
        "outputId": "fade736e-4357-45c4-f342-a6dafba737c6"
      },
      "source": [
        "import cv2\n",
        "import tensorflow as tf\n",
        "import numpy as np\n",
        "import matplotlib.pyplot as plt\n",
        "mnist = tf.keras.datasets.mnist\n",
        "(x_train,y_train), (x_test,y_test) = mnist.load_data()"
      ],
      "execution_count": 1,
      "outputs": [
        {
          "output_type": "stream",
          "text": [
            "Downloading data from https://storage.googleapis.com/tensorflow/tf-keras-datasets/mnist.npz\n",
            "11493376/11490434 [==============================] - 0s 0us/step\n"
          ],
          "name": "stdout"
        }
      ]
    },
    {
      "cell_type": "code",
      "metadata": {
        "id": "vazLJ9yPSJQ4",
        "colab_type": "code",
        "colab": {
          "base_uri": "https://localhost:8080/",
          "height": 34
        },
        "outputId": "c17b64aa-c27c-46a7-94ab-054434ddd902"
      },
      "source": [
        "x_train , x_test = x_train / 255.0 , x_test / 255.0\n",
        "x_train = tf.keras.utils.normalize(x_train, axis=-1)\n",
        "x_test = tf.keras.utils.normalize(x_test,axis=-1)\n",
        "print(y_train)"
      ],
      "execution_count": 2,
      "outputs": [
        {
          "output_type": "stream",
          "text": [
            "[5 0 4 ... 5 6 8]\n"
          ],
          "name": "stdout"
        }
      ]
    },
    {
      "cell_type": "code",
      "metadata": {
        "id": "Vo4DWU9YSM1V",
        "colab_type": "code",
        "colab": {}
      },
      "source": [
        "model = tf.keras.models.Sequential()\n",
        "model.add(tf.keras.layers.Flatten(input_shape=(28,28)))\n",
        "model.add(tf.keras.layers.Dense(units=512 , activation='relu'))\n",
        "model.add(tf.keras.layers.Dense(units=512 , activation='relu'))\n",
        "# model.add(tf.keras.layers.Dropout(0.2))\n",
        "model.add(tf.keras.layers.Dense(units=10 , activation='softmax'))\n",
        "model.compile(optimizer='adam' , loss =tf.keras.losses.SparseCategoricalCrossentropy(from_logits=True), metrics=['sparse_categorical_accuracy'])"
      ],
      "execution_count": 3,
      "outputs": []
    },
    {
      "cell_type": "code",
      "metadata": {
        "id": "Jfk20eabSSPq",
        "colab_type": "code",
        "colab": {
          "base_uri": "https://localhost:8080/",
          "height": 34
        },
        "outputId": "3d1ce46b-6e7a-4e65-c838-6291b2ce45af"
      },
      "source": [
        "mc = tf.keras.callbacks.ModelCheckpoint('model_digits{epoch:d}.h5', \n",
        "                                     save_weights_only=False, period=10)"
      ],
      "execution_count": 5,
      "outputs": [
        {
          "output_type": "stream",
          "text": [
            "WARNING:tensorflow:`period` argument is deprecated. Please use `save_freq` to specify the frequency in number of batches seen.\n"
          ],
          "name": "stdout"
        }
      ]
    },
    {
      "cell_type": "code",
      "metadata": {
        "id": "7F44X3vZSWrJ",
        "colab_type": "code",
        "colab": {
          "base_uri": "https://localhost:8080/",
          "height": 353
        },
        "outputId": "5d07f5a5-e1a6-4220-b133-dd7a59d187e1"
      },
      "source": [
        "history = model.fit(x_train,y_train,epochs=10, callbacks=[mc])"
      ],
      "execution_count": 6,
      "outputs": [
        {
          "output_type": "stream",
          "text": [
            "Epoch 1/10\n",
            "1875/1875 [==============================] - 11s 6ms/step - loss: 1.5513 - sparse_categorical_accuracy: 0.9144\n",
            "Epoch 2/10\n",
            "1875/1875 [==============================] - 11s 6ms/step - loss: 1.5066 - sparse_categorical_accuracy: 0.9551\n",
            "Epoch 3/10\n",
            "1875/1875 [==============================] - 12s 6ms/step - loss: 1.4988 - sparse_categorical_accuracy: 0.9626\n",
            "Epoch 4/10\n",
            "1875/1875 [==============================] - 12s 6ms/step - loss: 1.4939 - sparse_categorical_accuracy: 0.9673\n",
            "Epoch 5/10\n",
            "1875/1875 [==============================] - 11s 6ms/step - loss: 1.4914 - sparse_categorical_accuracy: 0.9698\n",
            "Epoch 6/10\n",
            "1875/1875 [==============================] - 11s 6ms/step - loss: 1.4910 - sparse_categorical_accuracy: 0.9702\n",
            "Epoch 7/10\n",
            "1875/1875 [==============================] - 11s 6ms/step - loss: 1.4885 - sparse_categorical_accuracy: 0.9726\n",
            "Epoch 8/10\n",
            "1875/1875 [==============================] - 11s 6ms/step - loss: 1.4879 - sparse_categorical_accuracy: 0.9734\n",
            "Epoch 9/10\n",
            "1875/1875 [==============================] - 11s 6ms/step - loss: 1.4867 - sparse_categorical_accuracy: 0.9745\n",
            "Epoch 10/10\n",
            "1875/1875 [==============================] - 11s 6ms/step - loss: 1.4863 - sparse_categorical_accuracy: 0.9747\n"
          ],
          "name": "stdout"
        }
      ]
    },
    {
      "cell_type": "code",
      "metadata": {
        "id": "pmAqf7hCSanj",
        "colab_type": "code",
        "colab": {
          "base_uri": "https://localhost:8080/",
          "height": 50
        },
        "outputId": "f286eac7-31c9-4db3-a1fe-aa683d7642c5"
      },
      "source": [
        "#evaluate saved model vs original model\n",
        "m_new=tf.keras.models.load_model('model_digits10.h5')\n",
        "# saved model\n",
        "m_new.evaluate(x_test,y_test)"
      ],
      "execution_count": 7,
      "outputs": [
        {
          "output_type": "stream",
          "text": [
            "313/313 [==============================] - 1s 3ms/step - loss: 1.4902 - sparse_categorical_accuracy: 0.9708\n"
          ],
          "name": "stdout"
        },
        {
          "output_type": "execute_result",
          "data": {
            "text/plain": [
              "[1.490220069885254, 0.97079998254776]"
            ]
          },
          "metadata": {
            "tags": []
          },
          "execution_count": 7
        }
      ]
    },
    {
      "cell_type": "code",
      "metadata": {
        "id": "eIEo_-MOS0Mu",
        "colab_type": "code",
        "colab": {
          "base_uri": "https://localhost:8080/",
          "height": 50
        },
        "outputId": "abba99a7-f715-4e6d-a03b-dde162d9ba5a"
      },
      "source": [
        "model.evaluate(x_test,y_test)"
      ],
      "execution_count": 9,
      "outputs": [
        {
          "output_type": "stream",
          "text": [
            "313/313 [==============================] - 1s 2ms/step - loss: 1.4902 - sparse_categorical_accuracy: 0.9708\n"
          ],
          "name": "stdout"
        },
        {
          "output_type": "execute_result",
          "data": {
            "text/plain": [
              "[1.490220069885254, 0.97079998254776]"
            ]
          },
          "metadata": {
            "tags": []
          },
          "execution_count": 9
        }
      ]
    },
    {
      "cell_type": "code",
      "metadata": {
        "id": "ayfcyQW7S3Wt",
        "colab_type": "code",
        "colab": {
          "base_uri": "https://localhost:8080/",
          "height": 104
        },
        "outputId": "d81cb9cf-d89e-49d5-9f9f-7929696d9f5e"
      },
      "source": [
        "y_pred = model.predict_classes(x_test)\n",
        "y_pred"
      ],
      "execution_count": 10,
      "outputs": [
        {
          "output_type": "stream",
          "text": [
            "WARNING:tensorflow:From <ipython-input-10-41a58b04bb02>:1: Sequential.predict_classes (from tensorflow.python.keras.engine.sequential) is deprecated and will be removed after 2021-01-01.\n",
            "Instructions for updating:\n",
            "Please use instead:* `np.argmax(model.predict(x), axis=-1)`,   if your model does multi-class classification   (e.g. if it uses a `softmax` last-layer activation).* `(model.predict(x) > 0.5).astype(\"int32\")`,   if your model does binary classification   (e.g. if it uses a `sigmoid` last-layer activation).\n"
          ],
          "name": "stdout"
        },
        {
          "output_type": "execute_result",
          "data": {
            "text/plain": [
              "array([7, 2, 1, ..., 4, 5, 6])"
            ]
          },
          "metadata": {
            "tags": []
          },
          "execution_count": 10
        }
      ]
    },
    {
      "cell_type": "code",
      "metadata": {
        "id": "g-eqBdTsS5zh",
        "colab_type": "code",
        "colab": {
          "base_uri": "https://localhost:8080/",
          "height": 34
        },
        "outputId": "82043eaa-3d4b-445c-d1c9-20b53a1c32a1"
      },
      "source": [
        "y_pred[0]"
      ],
      "execution_count": 11,
      "outputs": [
        {
          "output_type": "execute_result",
          "data": {
            "text/plain": [
              "7"
            ]
          },
          "metadata": {
            "tags": []
          },
          "execution_count": 11
        }
      ]
    },
    {
      "cell_type": "code",
      "metadata": {
        "id": "8aBo1sOdS8ac",
        "colab_type": "code",
        "colab": {
          "base_uri": "https://localhost:8080/",
          "height": 34
        },
        "outputId": "4dc9b2f0-99f2-48e9-b161-535f8a26b2f7"
      },
      "source": [
        "np.argmax(y_pred[0])"
      ],
      "execution_count": 12,
      "outputs": [
        {
          "output_type": "execute_result",
          "data": {
            "text/plain": [
              "0"
            ]
          },
          "metadata": {
            "tags": []
          },
          "execution_count": 12
        }
      ]
    },
    {
      "cell_type": "code",
      "metadata": {
        "id": "L-yw_FVhTA_m",
        "colab_type": "code",
        "colab": {
          "base_uri": "https://localhost:8080/",
          "height": 34
        },
        "outputId": "a789806a-c574-4970-fcb8-8f589430f1ce"
      },
      "source": [
        "np.argmax(model.predict(x_test), axis=-1)"
      ],
      "execution_count": 13,
      "outputs": [
        {
          "output_type": "execute_result",
          "data": {
            "text/plain": [
              "array([7, 2, 1, ..., 4, 5, 6])"
            ]
          },
          "metadata": {
            "tags": []
          },
          "execution_count": 13
        }
      ]
    },
    {
      "cell_type": "code",
      "metadata": {
        "id": "R_YZf0KLTFUs",
        "colab_type": "code",
        "colab": {}
      },
      "source": [
        "# Evaluation\n",
        "from sklearn.metrics import accuracy_score,confusion_matrix"
      ],
      "execution_count": 14,
      "outputs": []
    },
    {
      "cell_type": "code",
      "metadata": {
        "id": "uucu0Fd_TXuE",
        "colab_type": "code",
        "colab": {
          "base_uri": "https://localhost:8080/",
          "height": 34
        },
        "outputId": "a884b9f3-bf8d-4f75-fa26-029b60e17266"
      },
      "source": [
        "accuracy_score(y_pred,y_test)"
      ],
      "execution_count": 15,
      "outputs": [
        {
          "output_type": "execute_result",
          "data": {
            "text/plain": [
              "0.9708"
            ]
          },
          "metadata": {
            "tags": []
          },
          "execution_count": 15
        }
      ]
    },
    {
      "cell_type": "code",
      "metadata": {
        "id": "ZlNTKXNPTbAL",
        "colab_type": "code",
        "colab": {
          "base_uri": "https://localhost:8080/",
          "height": 185
        },
        "outputId": "0de7f01e-fcd8-4890-f4b8-a8fd1acd727b"
      },
      "source": [
        "confusion_matrix(y_pred,y_test)"
      ],
      "execution_count": 16,
      "outputs": [
        {
          "output_type": "execute_result",
          "data": {
            "text/plain": [
              "array([[ 974,    0,   15,    0,    5,    3,   13,    0,    7,    3],\n",
              "       [   1, 1117,    2,    0,    0,    0,    3,    5,    1,    2],\n",
              "       [   0,    0,  985,    2,    0,    0,    0,    3,    5,    0],\n",
              "       [   0,    2,    7,  983,    0,    5,    0,    3,    4,    4],\n",
              "       [   1,    2,    3,    0,  955,    2,    2,    4,    4,   18],\n",
              "       [   0,    0,    1,   12,    0,  867,    3,    0,    4,    6],\n",
              "       [   1,    5,    2,    0,    6,    7,  932,    0,    2,    1],\n",
              "       [   1,    2,   13,   10,    4,    2,    0, 1000,    3,   16],\n",
              "       [   2,    7,    4,    3,    1,    5,    5,    2,  939,    3],\n",
              "       [   0,    0,    0,    0,   11,    1,    0,   11,    5,  956]])"
            ]
          },
          "metadata": {
            "tags": []
          },
          "execution_count": 16
        }
      ]
    },
    {
      "cell_type": "code",
      "metadata": {
        "id": "OZpBfS2VTdlM",
        "colab_type": "code",
        "colab": {
          "base_uri": "https://localhost:8080/",
          "height": 282
        },
        "outputId": "018e0a76-6f9d-4eb1-e643-ec8037dd0193"
      },
      "source": [
        "plt.plot(history.history['sparse_categorical_accuracy'])"
      ],
      "execution_count": 17,
      "outputs": [
        {
          "output_type": "execute_result",
          "data": {
            "text/plain": [
              "[<matplotlib.lines.Line2D at 0x7ff7f16b9e48>]"
            ]
          },
          "metadata": {
            "tags": []
          },
          "execution_count": 17
        },
        {
          "output_type": "display_data",
          "data": {
            "image/png": "[encoded data removed]",
            "text/plain": [
              "<Figure size 432x288 with 1 Axes>"
            ]
          },
          "metadata": {
            "tags": [],
            "needs_background": "light"
          }
        }
      ]
    },
    {
      "cell_type": "code",
      "metadata": {
        "id": "4Zg5kg5OTgoX",
        "colab_type": "code",
        "colab": {
          "base_uri": "https://localhost:8080/",
          "height": 1000
        },
        "outputId": "39c661c1-6010-4874-9b5e-bad23787dae4"
      },
      "source": [
        "model.get_weights()"
      ],
      "execution_count": 18,
      "outputs": [
        {
          "output_type": "execute_result",
          "data": {
            "text/plain": [
              "[array([[ 0.00889026, -0.0030211 ,  0.03071867, ..., -0.01088009,\n",
              "         -0.0136404 ,  0.05459377],\n",
              "        [-0.05857963, -0.02964149, -0.06309627, ...,  0.02422049,\n",
              "         -0.03561468, -0.04155541],\n",
              "        [ 0.0001718 , -0.02304603, -0.04338349, ..., -0.00666881,\n",
              "         -0.03412891,  0.02893446],\n",
              "        ...,\n",
              "        [-0.05976527,  0.04200437,  0.02497742, ..., -0.02471066,\n",
              "          0.02252388,  0.00302903],\n",
              "        [-0.03067362, -0.02917083,  0.05967008, ..., -0.04005911,\n",
              "          0.01638386,  0.0127141 ],\n",
              "        [-0.03472575, -0.00940373, -0.04818913, ..., -0.01827303,\n",
              "         -0.05979789, -0.00327574]], dtype=float32),\n",
              " array([-5.14700729e-03, -1.15605146e-02, -1.03338636e-01,  1.62124448e-02,\n",
              "        -4.50195745e-02, -4.47964929e-02, -3.60485762e-02, -3.38251702e-02,\n",
              "         2.15574633e-02, -4.12617438e-02, -8.32693800e-02, -1.97488144e-02,\n",
              "        -5.25071733e-02,  3.35607072e-03, -9.54154208e-02, -1.17623076e-01,\n",
              "        -3.50066535e-02, -7.98847452e-02, -7.34844953e-02, -8.35508406e-02,\n",
              "        -4.21670993e-04,  1.48998657e-02, -4.85549904e-02, -2.25810520e-02,\n",
              "        -2.61535980e-02, -4.42509875e-02, -1.80500355e-02, -1.87576693e-02,\n",
              "        -2.61454824e-02, -1.27306832e-02, -1.20365798e-01, -5.35613410e-02,\n",
              "        -9.40091610e-02, -3.92247289e-02, -5.27599454e-02, -2.66409703e-02,\n",
              "        -3.40309739e-02, -6.77385554e-02,  1.54059948e-02, -1.91409905e-02,\n",
              "        -1.55136269e-02, -5.30388765e-02, -3.05907186e-02, -6.16491772e-02,\n",
              "        -2.35812720e-02,  4.30632830e-02, -4.06583250e-02, -7.28306323e-02,\n",
              "        -3.73379849e-02, -4.48272564e-02,  1.94054935e-02, -2.89738216e-02,\n",
              "        -3.39541696e-02, -6.39236439e-03, -3.72551754e-02, -9.35144722e-02,\n",
              "         4.85032164e-02,  8.42339396e-02,  1.12109203e-02,  3.53618339e-02,\n",
              "        -8.89224410e-02, -5.09054549e-02,  1.02517279e-02, -9.58212614e-02,\n",
              "        -6.96612969e-02, -8.55522826e-02, -6.33505210e-02, -4.73841913e-02,\n",
              "        -8.60108435e-02, -7.11090863e-03,  3.15502286e-02, -4.44567278e-02,\n",
              "        -6.73450828e-02, -2.94216927e-02, -2.48591155e-02, -7.41806701e-02,\n",
              "        -1.13019191e-01, -2.50765122e-02, -6.27136007e-02,  3.11206542e-02,\n",
              "        -7.85646588e-02, -6.14843704e-02, -6.67816997e-02, -2.58942749e-02,\n",
              "        -3.09109204e-02, -8.33030716e-02,  5.43158315e-03,  1.96052007e-02,\n",
              "        -6.41110316e-02, -3.07046827e-02, -8.06823522e-02, -3.33611369e-02,\n",
              "        -6.07716991e-03, -4.03492451e-02, -8.21350962e-02,  5.99505790e-02,\n",
              "        -7.77986199e-02, -6.08327845e-03,  1.24514066e-02, -7.08670765e-02,\n",
              "        -8.75357389e-02,  1.81579068e-02, -1.52669456e-02, -5.33274673e-02,\n",
              "        -6.06784932e-02, -8.92591849e-02, -3.50080803e-02,  1.64373424e-02,\n",
              "        -2.71598585e-02, -6.26676753e-02, -3.98308709e-02, -2.67140307e-02,\n",
              "         4.39852476e-03, -5.68095297e-02, -1.36681795e-01,  2.98501663e-02,\n",
              "        -4.49126624e-02,  1.91803183e-02, -3.46358796e-03, -5.88093698e-02,\n",
              "        -6.38856143e-02, -4.30909432e-02, -4.97475341e-02,  4.54309247e-02,\n",
              "         1.27009442e-02, -4.57710586e-02, -1.21197915e-02, -1.16991550e-01,\n",
              "        -3.99535559e-02, -2.51709297e-02, -1.63702667e-02, -4.87803761e-03,\n",
              "        -7.02350587e-02, -2.84898821e-02,  8.10141861e-02,  2.75863558e-02,\n",
              "        -1.85999479e-02, -1.21881768e-01, -7.90993962e-03, -7.67952502e-02,\n",
              "        -7.33783692e-02, -9.31458920e-02, -1.02689870e-01, -3.17735225e-02,\n",
              "        -6.56888112e-02, -9.70658008e-03, -6.48549423e-02,  2.72695124e-02,\n",
              "        -5.60386851e-02, -6.20841514e-03,  5.44197187e-02, -1.24324091e-01,\n",
              "        -9.19744372e-02, -2.46745646e-02, -9.80908647e-02, -7.64209926e-02,\n",
              "        -5.46744615e-02, -1.12561755e-01, -8.51856768e-02, -9.32756364e-02,\n",
              "        -2.03887057e-02, -5.42069785e-02, -4.11719689e-03, -3.23275657e-04,\n",
              "        -6.45508468e-02, -5.49222194e-02, -6.47846684e-02, -8.76479894e-02,\n",
              "         2.17037313e-02, -5.59254549e-02, -8.93435329e-02,  3.02495109e-03,\n",
              "        -4.42467630e-04,  1.26093045e-01, -2.12108307e-02, -2.36796755e-02,\n",
              "        -2.58602127e-02, -7.27255195e-02, -1.93280037e-02,  1.05047571e-02,\n",
              "        -6.00573681e-02, -3.60225737e-02,  3.13614532e-02, -6.77206516e-02,\n",
              "        -3.98617387e-02, -5.34337312e-02,  1.08614750e-01, -5.58328815e-02,\n",
              "        -7.35230744e-03,  9.58943740e-03, -8.11019912e-02, -7.38849863e-03,\n",
              "        -5.79791553e-02, -5.53889684e-02, -5.01878820e-02, -7.64110088e-02,\n",
              "        -5.08594736e-02, -1.17037669e-01, -1.22531980e-01,  2.75533088e-02,\n",
              "        -6.01536632e-02, -1.06148049e-01, -6.00309893e-02, -1.02235109e-01,\n",
              "         7.62905329e-02, -3.04844435e-02, -6.60032406e-02, -7.39618763e-02,\n",
              "        -1.09971695e-01, -3.90138514e-02, -1.10548243e-01,  6.86729187e-03,\n",
              "        -2.45956890e-03,  2.95680091e-02, -1.38245940e-01, -6.88700983e-03,\n",
              "        -1.85107824e-03, -2.86484566e-02, -9.10015330e-02, -1.04331203e-01,\n",
              "        -9.47920326e-03, -3.61881182e-02, -8.53857696e-02, -9.50261950e-02,\n",
              "        -4.28944640e-02,  2.63061165e-03, -6.82367533e-02, -6.29541054e-02,\n",
              "        -3.39246020e-02, -8.55552703e-02, -8.98370445e-02, -3.64137106e-02,\n",
              "        -3.36935446e-02, -3.17978039e-02, -3.65022831e-02, -5.35525493e-02,\n",
              "        -1.02712400e-01, -3.81710147e-03, -2.88371500e-02,  6.24647830e-03,\n",
              "         1.93054427e-03, -2.50662528e-02, -3.49183232e-02, -5.09698391e-02,\n",
              "        -6.52946383e-02, -2.29376610e-02, -1.04187481e-01, -5.82252108e-02,\n",
              "        -3.44743654e-02, -1.40542639e-02, -5.93138859e-03,  8.18436295e-02,\n",
              "        -5.77600896e-02, -4.61004190e-02,  1.80199426e-02, -9.18275639e-02,\n",
              "        -2.58038845e-02, -7.57783055e-02, -9.69026759e-02, -5.44051453e-02,\n",
              "        -9.25734490e-02, -1.88324810e-03,  6.53116107e-02, -6.53890371e-02,\n",
              "        -4.60893176e-02,  4.92483098e-03, -8.11473131e-02,  1.13738067e-01,\n",
              "        -1.99340880e-02, -9.58497450e-03, -1.20703943e-01, -4.93693864e-03,\n",
              "        -1.12100631e-01, -9.49291606e-03, -5.29442541e-02,  2.13180203e-02,\n",
              "        -7.89225399e-02,  4.25529331e-02, -1.19004492e-02, -5.54427132e-02,\n",
              "        -4.98580225e-02, -2.12585498e-02,  8.41011256e-02, -6.88415393e-02,\n",
              "        -1.21490531e-01, -3.90900671e-02,  1.39616132e-02, -6.06862046e-02,\n",
              "        -3.26927118e-02,  1.18860388e-02, -3.22019309e-02,  3.73302512e-02,\n",
              "        -4.00864072e-02, -5.35637587e-02, -9.52404737e-02, -5.02799563e-02,\n",
              "        -3.72500941e-02, -5.49958795e-02, -8.87810215e-02, -5.39851300e-02,\n",
              "         3.89782339e-02, -2.90105939e-02, -4.66371961e-02, -7.14878142e-02,\n",
              "        -9.80453864e-02, -1.46384463e-02,  1.44838579e-02, -7.93784559e-02,\n",
              "         4.40373495e-02, -3.80907021e-02, -6.19802810e-02, -6.26359433e-02,\n",
              "        -3.72591056e-02, -8.92537162e-02, -5.30505553e-02, -1.34906188e-01,\n",
              "        -1.01718241e-02,  3.26466709e-02,  2.13224422e-02, -1.00722454e-01,\n",
              "        -1.21477932e-01,  2.97150370e-02, -4.60801087e-02, -8.91610831e-02,\n",
              "        -1.14907902e-02, -6.99660480e-02, -9.63978395e-02, -1.35149598e-01,\n",
              "         8.89368262e-03, -1.16962604e-02, -5.16299680e-02, -7.70540610e-02,\n",
              "         8.10782984e-02, -1.10368757e-02, -4.49765511e-02, -1.90690607e-02,\n",
              "        -3.58121991e-02, -9.97602567e-02,  1.87781826e-02,  4.03892398e-02,\n",
              "        -6.41024858e-02, -7.98026770e-02, -9.63868201e-03, -4.70433384e-02,\n",
              "        -8.13622773e-02, -7.75769427e-02, -1.69844702e-02, -8.86561945e-02,\n",
              "        -9.23947990e-02, -4.12569344e-02,  1.34630483e-02, -3.77270877e-02,\n",
              "        -7.48394355e-02, -2.12953445e-02, -3.40490267e-02,  3.16140801e-02,\n",
              "        -3.73695791e-02,  2.46997364e-03,  5.06222919e-02, -5.92975505e-02,\n",
              "        -1.19937137e-01, -2.27236152e-02, -3.10391486e-02,  3.93426456e-02,\n",
              "        -1.41754955e-01, -1.30865276e-02, -6.01441488e-02, -1.40696368e-03,\n",
              "        -3.39585803e-02, -1.44989733e-02, -1.11516871e-01, -3.74716334e-02,\n",
              "        -2.64547952e-02, -5.05938902e-02, -1.07464027e-02,  1.50562804e-02,\n",
              "        -6.37384653e-02, -5.04320022e-03, -1.50029743e-02, -9.98006463e-02,\n",
              "        -8.40786770e-02, -2.19290145e-02, -6.21374883e-02, -1.84173621e-02,\n",
              "        -2.88155004e-02, -3.33284214e-02, -1.42202983e-02,  1.63624878e-04,\n",
              "        -8.95083919e-02,  1.15361740e-03, -4.58633155e-02, -2.48965267e-02,\n",
              "        -1.76038668e-02, -7.44120926e-02, -1.74029022e-01, -1.08721331e-01,\n",
              "        -2.42724665e-03,  6.67929137e-03, -1.31829888e-01, -5.84591404e-02,\n",
              "        -1.32877886e-01,  4.76476289e-02, -5.99270090e-02, -1.16886357e-02,\n",
              "        -2.53097694e-02,  5.26206158e-02,  5.29170781e-02, -3.00987735e-02,\n",
              "        -8.31848457e-02, -1.90345142e-02, -9.73213650e-03, -2.26911660e-02,\n",
              "        -2.08453853e-02, -1.68801710e-01,  2.66530886e-02, -4.83566336e-02,\n",
              "        -6.02379330e-02, -4.98560490e-03, -9.05775428e-02, -8.88848230e-02,\n",
              "        -5.28888479e-02, -1.16903773e-02, -1.29331800e-03, -1.13114789e-02,\n",
              "        -1.11107253e-01, -6.33880496e-02, -7.93276355e-02, -4.03213240e-02,\n",
              "        -1.03303246e-01, -1.67065521e-03, -1.61971636e-02,  7.45544722e-03,\n",
              "         1.68899745e-02,  3.49883065e-02, -2.05479702e-03, -6.69148415e-02,\n",
              "        -2.08647549e-02, -1.23360939e-03, -8.28189030e-03, -3.86660211e-02,\n",
              "        -8.61716494e-02, -5.04480526e-02, -8.00102018e-03, -1.05942786e-01,\n",
              "        -9.00750607e-02,  7.09448429e-03, -1.17945822e-03, -8.32078420e-03,\n",
              "        -7.74701461e-02, -1.49080470e-01, -9.05648321e-02, -1.09762043e-01,\n",
              "        -8.00625384e-02, -5.39450198e-02,  4.52585742e-02, -4.11010608e-02,\n",
              "        -7.14896694e-02, -1.17275782e-01, -2.17179768e-02, -2.63867471e-02,\n",
              "         5.05312271e-02,  3.82946506e-02, -5.78430258e-02, -3.78667153e-02,\n",
              "        -7.41609558e-02, -6.23562224e-02, -6.13703094e-02, -4.14643958e-02,\n",
              "        -1.81103835e-03,  3.26318964e-02, -5.54276630e-02, -2.69232201e-03,\n",
              "         2.58955751e-02, -1.08279176e-01, -5.54205887e-02, -8.64745155e-02,\n",
              "        -6.49394989e-02, -6.37013614e-02, -7.58334175e-02,  1.76752917e-02,\n",
              "        -1.04517862e-01, -6.77701309e-02, -3.12554799e-02, -9.29954723e-02,\n",
              "        -3.85124870e-02,  1.50312753e-02,  5.21224141e-02, -3.23857330e-02,\n",
              "         9.69293620e-03, -5.05368486e-02, -9.32743028e-02, -9.08486545e-02,\n",
              "        -7.44421631e-02, -2.21461616e-02, -5.25616594e-02, -9.36496072e-03,\n",
              "        -4.98218164e-02,  3.80855203e-02,  5.58702014e-02, -9.20957327e-03,\n",
              "        -1.60230234e-01, -4.74669114e-02, -5.78913763e-02, -8.66878685e-03,\n",
              "        -6.67753667e-02, -7.53937736e-02,  1.84479803e-02, -1.09432809e-01,\n",
              "        -1.20228054e-02, -1.17270477e-01, -2.05764268e-02, -9.35546588e-03],\n",
              "       dtype=float32),\n",
              " array([[-0.16356282, -0.02198537, -0.06315668, ...,  0.11462821,\n",
              "         -0.07333943,  0.06744631],\n",
              "        [-0.00802633,  0.02569805, -0.0175936 , ...,  0.06838858,\n",
              "         -0.1340602 , -0.09052396],\n",
              "        [ 0.09725942, -0.00727142,  0.02878541, ...,  0.06807789,\n",
              "         -0.24094237,  0.17009059],\n",
              "        ...,\n",
              "        [-0.08222168,  0.08826883,  0.15480691, ..., -0.01491112,\n",
              "          0.05188362,  0.10484558],\n",
              "        [-0.06056048, -0.1692454 ,  0.1878494 , ..., -0.16694106,\n",
              "          0.16784325,  0.22684616],\n",
              "        [ 0.02634414,  0.15197232, -0.18322498, ...,  0.06842288,\n",
              "          0.11520545,  0.01360086]], dtype=float32),\n",
              " array([ 0.11339037, -0.00317373,  0.09276611, -0.07063685, -0.08173127,\n",
              "        -0.15479782, -0.00621091,  0.16053185,  0.05761036, -0.03124529,\n",
              "        -0.10413595, -0.08128788,  0.12856798,  0.16526616,  0.17875114,\n",
              "        -0.1840709 , -0.04425326, -0.03242202,  0.14007662, -0.00296908,\n",
              "        -0.05691552, -0.15626247,  0.17264748,  0.06108066,  0.24202736,\n",
              "        -0.11588245,  0.06961973, -0.10112406,  0.12637   ,  0.12884752,\n",
              "        -0.09280887, -0.1550044 ,  0.24568842,  0.03102103, -0.05218804,\n",
              "        -0.15548648, -0.05228154, -0.19179597, -0.1187951 ,  0.05368114,\n",
              "        -0.04648649, -0.01820327, -0.13593026,  0.11535085, -0.12413283,\n",
              "        -0.05674344,  0.10749304, -0.10227034,  0.01713463, -0.03403818,\n",
              "         0.14166993, -0.02090954,  0.2342847 ,  0.09133077, -0.08495724,\n",
              "         0.19131726,  0.07544009,  0.09612035, -0.04684976,  0.09582533,\n",
              "        -0.02491025, -0.03377646, -0.04855922, -0.21153969,  0.0103138 ,\n",
              "         0.08619561, -0.05746194, -0.09647053, -0.00306706, -0.26649538,\n",
              "         0.23006795,  0.03611266,  0.09915272, -0.02620343, -0.07937745,\n",
              "         0.18168306,  0.09686989,  0.0554703 ,  0.17382671,  0.03834686,\n",
              "         0.2132805 ,  0.22933242,  0.06012726,  0.14888571, -0.05153967,\n",
              "        -0.05828606,  0.04015432, -0.10247287, -0.04282478, -0.12571691,\n",
              "         0.16129106, -0.07623222, -0.02740312, -0.14494282, -0.08480767,\n",
              "        -0.21370938, -0.13851559,  0.01680253,  0.12727307, -0.07512741,\n",
              "        -0.04630636,  0.07639863, -0.11864132, -0.1907709 ,  0.01062484,\n",
              "        -0.08217557, -0.05354423,  0.19280092,  0.00290796,  0.20782052,\n",
              "        -0.04250997,  0.14765985, -0.12235677, -0.15591945,  0.12308347,\n",
              "         0.04234103, -0.04544354, -0.00776677,  0.01547569,  0.00831549,\n",
              "        -0.16978964,  0.19993669, -0.1050007 , -0.18820868,  0.13750468,\n",
              "        -0.0294039 , -0.0620794 , -0.0582212 , -0.02172335,  0.02523203,\n",
              "         0.12773734,  0.13589169,  0.17813054, -0.13478637,  0.05024917,\n",
              "         0.12006586, -0.13558982,  0.0904936 , -0.03041132, -0.00810359,\n",
              "        -0.08101137,  0.04428967, -0.03125285,  0.04565727, -0.14632963,\n",
              "         0.04748226, -0.1252605 ,  0.1190154 , -0.08461992, -0.02848052,\n",
              "        -0.05889391, -0.13109747, -0.04983537,  0.06149419, -0.02726429,\n",
              "         0.1556571 ,  0.13403407, -0.01065678,  0.02227002,  0.00042315,\n",
              "         0.27559382, -0.0673995 , -0.1113099 , -0.12779677, -0.03467269,\n",
              "        -0.11593705,  0.16324157, -0.04953327,  0.0859164 ,  0.0821074 ,\n",
              "        -0.09646478,  0.04565252,  0.00758189, -0.07904147,  0.09463949,\n",
              "        -0.11338001,  0.04686654, -0.02281515,  0.03362229,  0.22148947,\n",
              "         0.1785059 , -0.15221849,  0.17843264, -0.04971996, -0.0285584 ,\n",
              "        -0.04738994, -0.1169738 ,  0.12833227, -0.00992278, -0.02365845,\n",
              "        -0.06862576, -0.02040667, -0.18986355, -0.09921743, -0.02226563,\n",
              "        -0.03443242, -0.15235984, -0.04032154,  0.22768559,  0.10861491,\n",
              "         0.08855423, -0.06627931,  0.20793031, -0.13651133,  0.06177168,\n",
              "         0.13329384, -0.03007693, -0.07753265,  0.13671285, -0.03707428,\n",
              "        -0.06793015,  0.04538191, -0.03814419, -0.02959535, -0.01780387,\n",
              "         0.03113508, -0.05656855,  0.07154744, -0.14721315,  0.15256827,\n",
              "        -0.13347957, -0.06720228, -0.08409379,  0.09316253, -0.01109998,\n",
              "        -0.04046266, -0.01842461, -0.11589935,  0.14209014, -0.02388135,\n",
              "        -0.02703949, -0.02994395, -0.10752185,  0.01053553,  0.00467003,\n",
              "        -0.00463972,  0.04978676, -0.13831668,  0.21901001, -0.05687718,\n",
              "        -0.10182863, -0.00762258,  0.20587245, -0.09172481, -0.18460351,\n",
              "        -0.0801752 ,  0.15239877, -0.02063684, -0.02830573, -0.03176567,\n",
              "         0.09640013,  0.00979847, -0.05326673,  0.09826511, -0.05043845,\n",
              "        -0.16164775, -0.05930811, -0.129703  , -0.03748583, -0.00708939,\n",
              "        -0.17034248, -0.02314412, -0.04822096, -0.07689581,  0.18217655,\n",
              "        -0.02816108, -0.15802194,  0.05702027,  0.14307392, -0.03540265,\n",
              "         0.12774397,  0.0150922 ,  0.17258388, -0.03074788,  0.09553914,\n",
              "         0.04402854, -0.13845819, -0.20755708,  0.19498654, -0.1888768 ,\n",
              "        -0.03031696, -0.04693647,  0.03354846, -0.04762162,  0.09678161,\n",
              "        -0.04912554,  0.07035172, -0.15867776, -0.08791558, -0.06465393,\n",
              "        -0.02305049,  0.04357507, -0.13847618, -0.24749087,  0.12210504,\n",
              "         0.07340485, -0.13643615, -0.17933168,  0.12629072, -0.03467387,\n",
              "         0.11003426, -0.03444671,  0.22586884, -0.10723104, -0.04341416,\n",
              "        -0.0812092 , -0.12586132,  0.1093289 , -0.08859468, -0.0476758 ,\n",
              "        -0.06112736, -0.04434644,  0.04505693,  0.03934117, -0.12980485,\n",
              "        -0.04943728,  0.13172518, -0.04138022, -0.08200022,  0.10897272,\n",
              "         0.09082822,  0.24024849,  0.0688269 , -0.06384195,  0.00757232,\n",
              "         0.09261552,  0.08362223,  0.04460406, -0.00785155,  0.09355196,\n",
              "         0.13288741,  0.1134699 ,  0.07792506, -0.14906888,  0.15538418,\n",
              "         0.1409764 , -0.1347298 , -0.0972049 , -0.02313077,  0.13533626,\n",
              "        -0.11080965,  0.01961636,  0.05446754, -0.10533476,  0.04907861,\n",
              "        -0.07666506, -0.15499462, -0.1956864 , -0.19171795, -0.06482639,\n",
              "        -0.03606781, -0.03866858, -0.08433167, -0.11447448, -0.05207487,\n",
              "        -0.05705666,  0.08504465, -0.11801928, -0.09065498, -0.06370477,\n",
              "        -0.0537426 , -0.13922055,  0.00502686, -0.05403587, -0.1477047 ,\n",
              "        -0.01213224,  0.15173164,  0.2021924 , -0.12440352, -0.0544665 ,\n",
              "         0.01196238, -0.05180871,  0.10374173,  0.15232754,  0.2263094 ,\n",
              "         0.06583007,  0.08552413, -0.01332063, -0.13435315, -0.00763363,\n",
              "        -0.16754511,  0.01281094,  0.06651711, -0.14013064,  0.0387519 ,\n",
              "        -0.12982978,  0.15591808,  0.03383509, -0.1802577 , -0.00280407,\n",
              "         0.23556674, -0.11462072,  0.19659571, -0.17104614,  0.12334909,\n",
              "        -0.06663407,  0.03946751, -0.05714014,  0.02217222,  0.18225598,\n",
              "        -0.00863778, -0.0302049 ,  0.11952862,  0.17183441, -0.03967769,\n",
              "         0.03660607, -0.0313808 ,  0.16083023,  0.15851516, -0.13070907,\n",
              "        -0.05649671,  0.24689862, -0.02018691,  0.002523  , -0.0724785 ,\n",
              "         0.10053346, -0.15130241, -0.0755133 , -0.06300513, -0.06382209,\n",
              "        -0.04830108, -0.14645046, -0.0832252 , -0.10771994,  0.22627364,\n",
              "        -0.03801449, -0.02787155, -0.10725202, -0.0514213 ,  0.06373036,\n",
              "         0.24674019,  0.05766458,  0.28453705,  0.2318746 , -0.13190745,\n",
              "         0.00660808, -0.05736943,  0.0586741 , -0.13123061, -0.02757899,\n",
              "         0.10302032, -0.15297602,  0.02819706, -0.0185985 ,  0.07004552,\n",
              "         0.01618386, -0.03850974, -0.15552579, -0.1439498 , -0.12875472,\n",
              "        -0.06878531,  0.14087941, -0.12900445,  0.03541707,  0.10571774,\n",
              "        -0.1283187 ,  0.00657519,  0.06612439,  0.17994852, -0.01175953,\n",
              "        -0.07509176,  0.1086015 ,  0.24372043, -0.08637673, -0.05883729,\n",
              "         0.09964286,  0.12822074, -0.03501527,  0.13682242,  0.0077201 ,\n",
              "        -0.0816583 ,  0.12070304, -0.07164529, -0.10378721,  0.01347815,\n",
              "         0.01973978,  0.21269086, -0.11020134, -0.05603467, -0.02264536,\n",
              "         0.00807985, -0.15080588, -0.12041482,  0.1126867 , -0.20218362,\n",
              "        -0.1430728 , -0.17042927, -0.10545684,  0.07204992, -0.03868692,\n",
              "        -0.10681404,  0.16085988,  0.00767501,  0.07581491, -0.10102125,\n",
              "        -0.06041294,  0.19467351, -0.12306968,  0.18477719,  0.07769228,\n",
              "        -0.00749397, -0.07265956, -0.0308264 , -0.0526778 ,  0.04025284,\n",
              "        -0.1429828 , -0.13423733,  0.20152949, -0.0678751 , -0.19220051,\n",
              "        -0.02149121, -0.06397185], dtype=float32),\n",
              " array([[-0.24991013, -0.01193654, -0.4252335 , ...,  0.01430464,\n",
              "          0.1756639 , -0.08843666],\n",
              "        [ 0.06862842, -0.19966294, -0.21033916, ..., -0.01511543,\n",
              "         -0.2281094 ,  0.08386508],\n",
              "        [ 0.14335302,  0.09480257,  0.11683127, ...,  0.09070531,\n",
              "          0.11426611, -0.3147576 ],\n",
              "        ...,\n",
              "        [ 0.04897406,  0.00266966,  0.13996352, ...,  0.25504386,\n",
              "         -0.28048593, -0.07913052],\n",
              "        [ 0.18537366, -0.12847126,  0.13522032, ..., -0.15391275,\n",
              "          0.06535335,  0.04047943],\n",
              "        [ 0.15523408, -0.22422785,  0.13667542, ...,  0.14554662,\n",
              "         -0.13300349, -0.07954078]], dtype=float32),\n",
              " array([ 0.04280062, -0.10349911, -0.10184196, -0.02364114, -0.02376494,\n",
              "        -0.06126588, -0.14078172, -0.10494243,  0.2705844 ,  0.11462826],\n",
              "       dtype=float32)]"
            ]
          },
          "metadata": {
            "tags": []
          },
          "execution_count": 18
        }
      ]
    },
    {
      "cell_type": "code",
      "metadata": {
        "id": "aMUpjygUTy4I",
        "colab_type": "code",
        "colab": {
          "base_uri": "https://localhost:8080/",
          "height": 34
        },
        "outputId": "169ea119-3144-4d76-9297-8bc44583df58"
      },
      "source": [
        "loss , accuracy = model.evaluate(x_test , y_test)"
      ],
      "execution_count": 19,
      "outputs": [
        {
          "output_type": "stream",
          "text": [
            "313/313 [==============================] - 1s 2ms/step - loss: 1.4902 - sparse_categorical_accuracy: 0.9708\n"
          ],
          "name": "stdout"
        }
      ]
    },
    {
      "cell_type": "code",
      "metadata": {
        "id": "0pHisN6QT3cJ",
        "colab_type": "code",
        "colab": {
          "base_uri": "https://localhost:8080/",
          "height": 34
        },
        "outputId": "3fee5604-3547-4ad8-a612-b0243b27071a"
      },
      "source": [
        "print(accuracy)"
      ],
      "execution_count": 20,
      "outputs": [
        {
          "output_type": "stream",
          "text": [
            "0.97079998254776\n"
          ],
          "name": "stdout"
        }
      ]
    },
    {
      "cell_type": "code",
      "metadata": {
        "id": "zmNXUIKoT6Hn",
        "colab_type": "code",
        "colab": {
          "base_uri": "https://localhost:8080/",
          "height": 34
        },
        "outputId": "0a4d3e6e-2ecd-4b8d-e0b9-75e7d07c54cf"
      },
      "source": [
        "print(loss)"
      ],
      "execution_count": 21,
      "outputs": [
        {
          "output_type": "stream",
          "text": [
            "1.490220069885254\n"
          ],
          "name": "stdout"
        }
      ]
    },
    {
      "cell_type": "code",
      "metadata": {
        "id": "-36gp21aT-_l",
        "colab_type": "code",
        "colab": {}
      },
      "source": [
        "model.save('digits_pred.h5')"
      ],
      "execution_count": 22,
      "outputs": []
    },
    {
      "cell_type": "code",
      "metadata": {
        "id": "9nGcwh2wUC5V",
        "colab_type": "code",
        "colab": {}
      },
      "source": [
        ""
      ],
      "execution_count": null,
      "outputs": []
    }
  ]
}